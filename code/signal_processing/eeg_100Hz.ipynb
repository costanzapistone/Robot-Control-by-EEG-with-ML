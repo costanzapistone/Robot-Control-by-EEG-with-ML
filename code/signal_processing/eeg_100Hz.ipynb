{
 "cells": [
  {
   "cell_type": "code",
   "execution_count": 1,
   "metadata": {},
   "outputs": [],
   "source": [
    "# Dataset information: https://bbci.de/competition/iv/desc_1.html\n",
    "# This Dataset is the downsampled version at 100Hz"
   ]
  },
  {
   "cell_type": "code",
   "execution_count": 1,
   "metadata": {},
   "outputs": [],
   "source": [
    "import numpy as np\n",
    "from scipy.io import loadmat\n",
    "import matplotlib.pyplot as plt \n",
    "import scipy\n",
    "import sklearn"
   ]
  },
  {
   "cell_type": "code",
   "execution_count": 2,
   "metadata": {},
   "outputs": [
    {
     "name": "stdout",
     "output_type": "stream",
     "text": [
      "dict_keys(['__header__', '__version__', '__globals__', 'mrk', 'cnt', 'nfo'])\n"
     ]
    }
   ],
   "source": [
    "# Load the MATLAB file \n",
    "EEG_data = loadmat('/home/costanza/thesis/Datasets/BCI_Competition_IV/calib/BCICIV_1_mat/BCICIV_calib_ds1a.mat', struct_as_record = True)\n",
    "\n",
    "# List all the keys in the loaded data\n",
    "keys = EEG_data.keys()\n",
    "\n",
    "# Print the keys variables to identify the correct key for EEG data\n",
    "print(keys)"
   ]
  },
  {
   "cell_type": "code",
   "execution_count": 3,
   "metadata": {},
   "outputs": [
    {
     "name": "stdout",
     "output_type": "stream",
     "text": [
      "Time Unit: 0.01 seconds\n"
     ]
    }
   ],
   "source": [
    "# Extract data\n",
    "markers = EEG_data['mrk']\n",
    "s_freq = EEG_data['nfo']['fs'][0][0][0][0]\n",
    "EEGdata   = EEG_data['cnt'].T \n",
    "n_channels, n_samples = EEGdata.shape\n",
    "\n",
    "time_unit = 1 / s_freq\n",
    "print(\"Time Unit:\", time_unit, \"seconds\")\n",
    "\n",
    "chan_names = [s[0] for s in EEG_data['nfo']['clab'][0][0][0]]\n",
    "\n",
    "event_onsets  = EEG_data['mrk'][0][0][0] # Time points when events occurred\n",
    "event_codes   = EEG_data['mrk'][0][0][1] # It contains numerical or categorical labels associated with each event.\n",
    "event_onset_time = event_onsets * time_unit # Seconds\n",
    "\n",
    "# Creates an array of zeros and then assigns the event codes to the corresponding positions based on the event onsets.\n",
    "labels = np.zeros((1, n_samples), int)\n",
    "labels[0, event_onsets] = event_codes\n",
    "\n",
    "cl_lab = [s[0] for s in EEG_data['nfo']['classes'][0][0][0]]\n",
    "cl1    = cl_lab[0]\n",
    "cl2    = cl_lab[1]\n",
    "\n",
    "# digitized electrode positions \n",
    "xpos = EEG_data['nfo']['xpos']\n",
    "ypos = EEG_data['nfo']['ypos']\n",
    "\n",
    "n_classes = len(cl_lab)\n",
    "n_events = len(event_onsets)\n",
    "\n",
    "# Print some information\n",
    "#print('Shape of EEG:', EEGdata.shape)\n",
    "#print('Sample rate:', s_freq)\n",
    "#print('Number of channels:', n_channels)\n",
    "#print('Channel names:', chan_names)\n",
    "#print('Number of events (MI movements):', event_onsets.shape[1])\n",
    "#print('Event codes:', np.unique(event_codes))\n",
    "#print('Class labels:', cl_lab)\n",
    "#print('Number of classes:', n_classes)\n",
    "#print(EEGdata[0,:50])\n",
    "#print(event_codes)\n",
    "#print(event_onsets)\n"
   ]
  },
  {
   "cell_type": "code",
   "execution_count": 9,
   "metadata": {},
   "outputs": [],
   "source": [
    "# Segmentation\n",
    "# Dictionary to store the trials in, each class gets an entry\n",
    "trials = {}\n",
    "\n",
    "# The time window (in samples) to extract for each trial, here 0.5 -- 4.5 seconds\n",
    "win = np.arange(int(-0.5*s_freq), int(4.5*s_freq)) # 500 samples\n",
    "nsamples_win = len(win)\n"
   ]
  },
  {
   "cell_type": "code",
   "execution_count": 10,
   "metadata": {},
   "outputs": [
    {
     "name": "stdout",
     "output_type": "stream",
     "text": [
      "(59, 500, 100)\n"
     ]
    }
   ],
   "source": [
    "# Loop over the classes (left, foot)\n",
    "for cl, code in zip(cl_lab, np.unique(event_codes)):\n",
    "\n",
    "    # Extract the onsets for the class\n",
    "    cl_onsets = event_onsets[event_codes == code]\n",
    "    trials[cl] = np.zeros((len(EEGdata[:,0]), nsamples_win, len(cl_onsets)))\n",
    "\n",
    "    # Extract each trial\n",
    "    for i, onset in enumerate (cl_onsets):\n",
    "        trials[cl][:,:,i] = EEGdata[:,win + onset]\n",
    "\n",
    "\n",
    "left = np.rollaxis(trials[cl1], 2, 0)  \n",
    "foot = np.rollaxis(trials[cl2], 2, 0)\n",
    "data = np.concatenate([left, foot])\n",
    "print(trials[cl1].shape)"
   ]
  },
  {
   "cell_type": "code",
   "execution_count": 11,
   "metadata": {},
   "outputs": [
    {
     "name": "stdout",
     "output_type": "stream",
     "text": [
      "(59, 500, 100)\n"
     ]
    }
   ],
   "source": [
    "from scipy.fftpack import fft\n",
    "\n",
    "# FFT computation for each trial for selected channels\n",
    "fft_trials = {}\n",
    "\n",
    "for cl in cl_lab:\n",
    "    # Get the segmented data for the current class\n",
    "    segmented_data = trials[cl]\n",
    "\n",
    "    # Allocate memory for FFT results\n",
    "    fft_trials[cl] = np.zeros_like(segmented_data, dtype=complex)\n",
    "\n",
    "    # Compute FFT for each trial for selected channels\n",
    "    for i in range(segmented_data.shape[2]):\n",
    "        # Apply FFT along the second axis (axis=1), which represents the time samples\n",
    "        fft_trials[cl][:, :, i] = fft(segmented_data[:, :, i], axis=1)\n",
    "\n",
    "# Calculate the magnitude of the FFT\n",
    "for cl in fft_trials:\n",
    "    fft_trials[cl] = np.abs(fft_trials[cl])\n",
    "\n",
    "print(fft_trials[cl1].shape)"
   ]
  },
  {
   "cell_type": "code",
   "execution_count": 12,
   "metadata": {},
   "outputs": [],
   "source": [
    "# LDA\n",
    "\n",
    "from sklearn.discriminant_analysis import LinearDiscriminantAnalysis\n",
    "from sklearn.model_selection import train_test_split\n",
    "from sklearn.svm import SVC\n",
    "from sklearn.metrics import accuracy_score, roc_auc_score"
   ]
  },
  {
   "cell_type": "code",
   "execution_count": 16,
   "metadata": {},
   "outputs": [
    {
     "data": {
      "image/png": "[encoded data removed]",
      "text/plain": [
       "<Figure size 640x480 with 1 Axes>"
      ]
     },
     "metadata": {},
     "output_type": "display_data"
    },
    {
     "name": "stdout",
     "output_type": "stream",
     "text": [
      "(200, 29500)\n",
      "(200,)\n",
      "(200, 1)\n"
     ]
    }
   ],
   "source": [
    "# Prepare the data for LDA \n",
    "n_trials_cl1 = fft_trials[cl1].shape[2]\n",
    "n_trials_cl2 = fft_trials[cl2].shape[2]\n",
    "n_features = fft_trials[cl1].shape[0] * fft_trials[cl1].shape[1]\n",
    "\n",
    "# Reshape the FFT data: Flatten each trial into a single row\n",
    "X_cl1 = fft_trials[cl1].reshape(n_trials_cl1, n_features)\n",
    "X_cl2 = fft_trials[cl2].reshape(n_trials_cl2, n_features)\n",
    "\n",
    "X = np.concatenate([X_cl1, X_cl2], axis = 0)\n",
    "\n",
    "# Create labels: 0 for class 1, 1 for class 2\n",
    "y = np.concatenate([np.zeros(n_trials_cl1), np.ones(n_trials_cl2)])\n",
    "\n",
    "lda = LinearDiscriminantAnalysis(n_components = 1)\n",
    "\n",
    "# Fit LDA\n",
    "lda.fit(X, y)\n",
    "\n",
    "# Get the LDA projection\n",
    "X_lda = lda.transform(X)\n",
    "\n",
    "# Plot the LDA projection\n",
    "plt.figure()\n",
    "plt.scatter(X_lda[y == 0], np.zeros(n_trials_cl1), label = cl1)\n",
    "plt.scatter(X_lda[y == 1], np.zeros(n_trials_cl2), label = cl2)\n",
    "plt.legend()\n",
    "plt.title('LDA projection')\n",
    "plt.show()\n",
    "\n",
    "print(X.shape)\n",
    "print(y.shape)\n",
    "print(X_lda.shape)"
   ]
  },
  {
   "cell_type": "code",
   "execution_count": 11,
   "metadata": {},
   "outputs": [
    {
     "name": "stdout",
     "output_type": "stream",
     "text": [
      "Shape of X and y: (200, 23600) (200,)\n",
      "Shape of data after LDA:  (140, 1) (60, 1)\n"
     ]
    }
   ],
   "source": [
    "# Prepare the data for LDA \n",
    "n_trials_cl1 = fft_trials[cl1].shape[2]\n",
    "n_trials_cl2 = fft_trials[cl2].shape[2]\n",
    "n_features = fft_trials[cl1].shape[0] * fft_trials[cl1].shape[1]\n",
    "\n",
    "# Reshape the FFT data: Flatten each trial into a single row\n",
    "X_cl1 = fft_trials[cl1].reshape(n_trials_cl1, n_features)\n",
    "X_cl2 = fft_trials[cl2].reshape(n_trials_cl2, n_features)\n",
    "\n",
    "X = np.concatenate([X_cl1, X_cl2], axis = 0)\n",
    "\n",
    "# Create labels: 0 for class 1, 1 for class 2\n",
    "y = np.concatenate([np.zeros(n_trials_cl1), np.ones(n_trials_cl2)])\n",
    "\n",
    "X_train, X_test, y_train, y_test = train_test_split(X,y,test_size = 0.30, random_state = 42)\n",
    "\n",
    "lda = LinearDiscriminantAnalysis(n_components = 1)\n",
    "X_train_lda = lda.fit_transform(X_train,y_train)\n",
    "\n",
    "X_test_lda = lda.transform(X_test)\n",
    "\n",
    "print('Shape of X and y:', X.shape, y.shape)\n",
    "print('Shape of data after LDA: ', X_train_lda.shape, X_test_lda.shape)"
   ]
  },
  {
   "cell_type": "code",
   "execution_count": 35,
   "metadata": {},
   "outputs": [
    {
     "name": "stdout",
     "output_type": "stream",
     "text": [
      "Accuracy: 0.9666666666666667\n",
      "              precision    recall  f1-score   support\n",
      "\n",
      "         0.0       0.97      0.97      0.97        31\n",
      "         1.0       0.97      0.97      0.97        29\n",
      "\n",
      "    accuracy                           0.97        60\n",
      "   macro avg       0.97      0.97      0.97        60\n",
      "weighted avg       0.97      0.97      0.97        60\n",
      "\n"
     ]
    }
   ],
   "source": [
    "# SVM\n",
    "from sklearn.svm import SVC\n",
    "from sklearn.metrics import classification_report, confusion_matrix\n",
    "\n",
    "# Create a linear SVM classifier\n",
    "svm = SVC(kernel = 'linear', probability = True)\n",
    "\n",
    "# Split the data into training and test sets\n",
    "X_train, X_test, y_train, y_test = train_test_split(X_lda, y, test_size = 0.3, random_state = 42)\n",
    "\n",
    "# Train the classifier\n",
    "svm.fit(X_train, y_train)\n",
    "\n",
    "# Get the predictions for the test data\n",
    "y_pred = svm.predict(X_test)\n",
    "\n",
    "# Get the classification accuracy\n",
    "acc = accuracy_score(y_test, y_pred)\n",
    "print('Accuracy:', acc)\n",
    "print(classification_report(y_test, y_pred)) "
   ]
  },
  {
   "cell_type": "code",
   "execution_count": 24,
   "metadata": {},
   "outputs": [
    {
     "data": {
      "image/png": "[encoded data removed]",
      "text/plain": [
       "<Figure size 640x480 with 1 Axes>"
      ]
     },
     "metadata": {},
     "output_type": "display_data"
    }
   ],
   "source": [
    "# ROC curve\n",
    "from sklearn.metrics import roc_curve\n",
    "\n",
    "# Get the probability estimates for the test data\n",
    "y_prob = svm.predict_proba(X_test)\n",
    "\n",
    "# Get the false positive rate and true positive rate\n",
    "fpr, tpr, thresholds = roc_curve(y_test, y_prob[:, 1])\n",
    "\n",
    "# Plot ROC curve\n",
    "plt.figure()\n",
    "plt.plot(fpr, tpr)\n",
    "plt.xlabel('False positive rate')\n",
    "plt.ylabel('True positive rate')\n",
    "plt.title('ROC curve')\n",
    "plt.show()\n",
    "\n"
   ]
  },
  {
   "cell_type": "code",
   "execution_count": 21,
   "metadata": {},
   "outputs": [
    {
     "ename": "NameError",
     "evalue": "name 'X_train_lda' is not defined",
     "output_type": "error",
     "traceback": [
      "\u001b[0;31m---------------------------------------------------------------------------\u001b[0m",
      "\u001b[0;31mNameError\u001b[0m                                 Traceback (most recent call last)",
      "\u001b[1;32m/home/costanza/Robot-Control-by-EEG-with-ML/code/signal_processing/eeg_100Hz.ipynb Cell 12\u001b[0m line \u001b[0;36m6\n\u001b[1;32m      <a href='vscode-notebook-cell:/home/costanza/Robot-Control-by-EEG-with-ML/code/signal_processing/eeg_100Hz.ipynb#X14sZmlsZQ%3D%3D?line=2'>3</a>\u001b[0m \u001b[39mfrom\u001b[39;00m \u001b[39msklearn\u001b[39;00m\u001b[39m.\u001b[39;00m\u001b[39mmetrics\u001b[39;00m \u001b[39mimport\u001b[39;00m precision_score, recall_score, f1_score\n\u001b[1;32m      <a href='vscode-notebook-cell:/home/costanza/Robot-Control-by-EEG-with-ML/code/signal_processing/eeg_100Hz.ipynb#X14sZmlsZQ%3D%3D?line=4'>5</a>\u001b[0m svm \u001b[39m=\u001b[39m SVC(probability\u001b[39m=\u001b[39m\u001b[39mTrue\u001b[39;00m)\n\u001b[0;32m----> <a href='vscode-notebook-cell:/home/costanza/Robot-Control-by-EEG-with-ML/code/signal_processing/eeg_100Hz.ipynb#X14sZmlsZQ%3D%3D?line=5'>6</a>\u001b[0m svm\u001b[39m.\u001b[39mfit(X_train_lda, y_train)\n\u001b[1;32m      <a href='vscode-notebook-cell:/home/costanza/Robot-Control-by-EEG-with-ML/code/signal_processing/eeg_100Hz.ipynb#X14sZmlsZQ%3D%3D?line=7'>8</a>\u001b[0m y_pred \u001b[39m=\u001b[39m svm\u001b[39m.\u001b[39mpredict(X_test_lda) \u001b[39m# Predict the class labels for the test data\u001b[39;00m\n\u001b[1;32m      <a href='vscode-notebook-cell:/home/costanza/Robot-Control-by-EEG-with-ML/code/signal_processing/eeg_100Hz.ipynb#X14sZmlsZQ%3D%3D?line=8'>9</a>\u001b[0m y_pred_proba \u001b[39m=\u001b[39m svm\u001b[39m.\u001b[39mpredict_proba(X_test_lda)[:,\u001b[39m1\u001b[39m] \u001b[39m# Proba returns an array where the first column represents the probability of the negative class, and the second column represents the probability of the positive class\u001b[39;00m\n",
      "\u001b[0;31mNameError\u001b[0m: name 'X_train_lda' is not defined"
     ]
    }
   ],
   "source": [
    "# SVM\n",
    "\n",
    "from sklearn.metrics import precision_score, recall_score, f1_score\n",
    "\n",
    "svm = SVC(probability=True)\n",
    "svm.fit(X_train_lda, y_train)\n",
    "\n",
    "y_pred = svm.predict(X_test_lda) # Predict the class labels for the test data\n",
    "y_pred_proba = svm.predict_proba(X_test_lda)[:,1] # Proba returns an array where the first column represents the probability of the negative class, and the second column represents the probability of the positive class\n",
    "\n",
    "accuracy_svm = accuracy_score(y_test, y_pred)\n",
    "auc_svm = roc_auc_score(y_test, y_pred_proba)\n",
    "print('Accuracy:', accuracy_svm)\n",
    "print('AUC:',auc_svm)"
   ]
  },
  {
   "cell_type": "code",
   "execution_count": 20,
   "metadata": {},
   "outputs": [
    {
     "ename": "NameError",
     "evalue": "name 'X_train_lda' is not defined",
     "output_type": "error",
     "traceback": [
      "\u001b[0;31m---------------------------------------------------------------------------\u001b[0m",
      "\u001b[0;31mNameError\u001b[0m                                 Traceback (most recent call last)",
      "\u001b[1;32m/home/costanza/Robot-Control-by-EEG-with-ML/code/signal_processing/eeg_100Hz.ipynb Cell 13\u001b[0m line \u001b[0;36m6\n\u001b[1;32m      <a href='vscode-notebook-cell:/home/costanza/Robot-Control-by-EEG-with-ML/code/signal_processing/eeg_100Hz.ipynb#X15sZmlsZQ%3D%3D?line=3'>4</a>\u001b[0m knn \u001b[39m=\u001b[39m KNeighborsClassifier(n_neighbors\u001b[39m=\u001b[39m\u001b[39m9\u001b[39m)  \n\u001b[1;32m      <a href='vscode-notebook-cell:/home/costanza/Robot-Control-by-EEG-with-ML/code/signal_processing/eeg_100Hz.ipynb#X15sZmlsZQ%3D%3D?line=4'>5</a>\u001b[0m \u001b[39m# Train the classifier\u001b[39;00m\n\u001b[0;32m----> <a href='vscode-notebook-cell:/home/costanza/Robot-Control-by-EEG-with-ML/code/signal_processing/eeg_100Hz.ipynb#X15sZmlsZQ%3D%3D?line=5'>6</a>\u001b[0m knn\u001b[39m.\u001b[39mfit(X_train_lda, y_train)\n\u001b[1;32m      <a href='vscode-notebook-cell:/home/costanza/Robot-Control-by-EEG-with-ML/code/signal_processing/eeg_100Hz.ipynb#X15sZmlsZQ%3D%3D?line=7'>8</a>\u001b[0m \u001b[39m# Make predictions on the test set\u001b[39;00m\n\u001b[1;32m      <a href='vscode-notebook-cell:/home/costanza/Robot-Control-by-EEG-with-ML/code/signal_processing/eeg_100Hz.ipynb#X15sZmlsZQ%3D%3D?line=8'>9</a>\u001b[0m y_pred_knn \u001b[39m=\u001b[39m knn\u001b[39m.\u001b[39mpredict(X_test_lda)\n",
      "\u001b[0;31mNameError\u001b[0m: name 'X_train_lda' is not defined"
     ]
    }
   ],
   "source": [
    "from sklearn.neighbors import KNeighborsClassifier\n",
    "\n",
    "# Initialize KNN classifier\n",
    "knn = KNeighborsClassifier(n_neighbors=9)  \n",
    "# Train the classifier\n",
    "knn.fit(X_train_lda, y_train)\n",
    "\n",
    "# Make predictions on the test set\n",
    "y_pred_knn = knn.predict(X_test_lda)\n",
    "y_pred_proba_knn = knn.predict_proba(X_test_lda)[:, 1]\n",
    "# Evaluate the accuracy and the AUC\n",
    "accuracy_knn = accuracy_score(y_test, y_pred_knn)\n",
    "auc_knn = roc_auc_score(y_test, y_pred_proba_knn)\n",
    "print('Accuracy of KNN:', accuracy_knn)\n",
    "print('AUC of KNN:',auc_knn)"
   ]
  },
  {
   "cell_type": "code",
   "execution_count": null,
   "metadata": {},
   "outputs": [],
   "source": [
    "# "
   ]
  },
  {
   "cell_type": "code",
   "execution_count": 14,
   "metadata": {},
   "outputs": [
    {
     "name": "stdout",
     "output_type": "stream",
     "text": [
      "Accuracy of NB: 0.9333333333333333\n",
      "AUC of Gaussian Naive Bayes: 0.9422\n"
     ]
    }
   ],
   "source": [
    "from sklearn.naive_bayes import GaussianNB\n",
    "\n",
    "# Initialize Gaussian Naive Bayes classifier\n",
    "nb_classifier = GaussianNB()\n",
    "\n",
    "# Train the classifier\n",
    "nb_classifier.fit(X_train_lda, y_train)\n",
    "\n",
    "# Make predictions on the test set\n",
    "y_pred_nb = nb_classifier.predict(X_test_lda)\n",
    "\n",
    "# Evaluate the accuracy and the AUC\n",
    "accuracy_nb = accuracy_score(y_test, y_pred_nb)\n",
    "print('Accuracy of NB:', accuracy_nb)\n",
    "\n",
    "# Calculate and print the AUC\n",
    "# Use predicted probabilities for class 1\n",
    "proba_class_1_nb = nb_classifier.predict_proba(X_test_lda)[:, 1]\n",
    "auc_nb = roc_auc_score(y_test, proba_class_1_nb)\n",
    "print(f'AUC of Gaussian Naive Bayes: {auc_nb:.4f}')"
   ]
  },
  {
   "cell_type": "code",
   "execution_count": 15,
   "metadata": {},
   "outputs": [
    {
     "name": "stdout",
     "output_type": "stream",
     "text": [
      "Accuracy of Logistic Regression: 0.9333333333333333\n",
      "AUC of Logistic Regression: 0.9432703003337042\n"
     ]
    }
   ],
   "source": [
    "# Classification using Logistic Regression\n",
    "from sklearn.linear_model import LogisticRegression\n",
    "\n",
    "# Initialize Logistic Regression classifier\n",
    "logreg_classifier = LogisticRegression()\n",
    "\n",
    "# Train the classifier\n",
    "logreg_classifier.fit(X_train_lda, y_train)\n",
    "\n",
    "# Make predictions on the test set\n",
    "y_pred_lr = logreg_classifier.predict(X_test_lda)\n",
    "\n",
    "# Evaluate the accuracy\n",
    "acc_lr = accuracy_score(y_test, y_pred_lr)\n",
    "print('Accuracy of Logistic Regression:', acc_lr)\n",
    "\n",
    "# Calculate and print the AUC\n",
    "# Use predicted probabilities for class 1\n",
    "proba_class_1_lr = logreg_classifier.predict_proba(X_test_lda)[:, 1]\n",
    "auc_lr = roc_auc_score(y_test, proba_class_1_lr)\n",
    "print('AUC of Logistic Regression:', auc_lr)\n"
   ]
  },
  {
   "cell_type": "code",
   "execution_count": 16,
   "metadata": {},
   "outputs": [
    {
     "name": "stdout",
     "output_type": "stream",
     "text": [
      "Accuracy of Logistic Regression: 0.8166666666666667\n",
      "AUC of Logistic Regression: 0.9432703003337042\n"
     ]
    }
   ],
   "source": [
    "# Classification using Decision Tree\n",
    "from sklearn.tree import DecisionTreeClassifier\n",
    "\n",
    "\n",
    "# Initialize Decision Tree classifier\n",
    "dt_classifier = DecisionTreeClassifier()\n",
    "\n",
    "# Train the classifier\n",
    "dt_classifier.fit(X_train_lda, y_train)\n",
    "\n",
    "# Make predictions on the test set\n",
    "y_pred_dt = dt_classifier.predict(X_test_lda)\n",
    "\n",
    "# Evaluate the accuracy\n",
    "acc_dt = accuracy_score(y_test, y_pred_dt)\n",
    "print('Accuracy of Logistic Regression:', acc_dt)\n",
    "\n",
    "# Calculate and print the AUC\n",
    "# Use predicted probabilities for class 1\n",
    "proba_class_1_dt = logreg_classifier.predict_proba(X_test_lda)[:, 1]\n",
    "auc_dt = roc_auc_score(y_test, proba_class_1_dt)\n",
    "print('AUC of Logistic Regression:', auc_dt)"
   ]
  },
  {
   "cell_type": "code",
   "execution_count": 17,
   "metadata": {},
   "outputs": [
    {
     "name": "stdout",
     "output_type": "stream",
     "text": [
      "Classifier\tAccuracy\tAUC\n",
      "KNN\t\t0.7000\t\t0.7976\n",
      "NB\t\t0.9333\t\t0.9422\n",
      "LR\t\t0.9333\t\t0.9433\n",
      "DT\t\t0.8167\t\t0.8170\n",
      "SVM\t\t0.7833\t\t0.9600\n"
     ]
    }
   ],
   "source": [
    "# Initialize classifiers\n",
    "classifiers = {\n",
    "    'KNN': KNeighborsClassifier(n_neighbors=3),\n",
    "    'NB': GaussianNB(),\n",
    "    'LR': LogisticRegression(),\n",
    "    'DT': DecisionTreeClassifier(),\n",
    "    'SVM': SVC(probability=True),  # Use probability=True for SVM to enable predict_proba\n",
    "}\n",
    "\n",
    "# Create a NumPy array to store the results\n",
    "results_array = np.empty((len(classifiers), 2), dtype=float)\n",
    "\n",
    "# Iterate over classifiers and fill the array\n",
    "for i, (clf_name, clf) in enumerate(classifiers.items()):\n",
    "    # Train the classifier\n",
    "    clf.fit(X_train_lda, y_train)\n",
    "\n",
    "    # Make predictions on the test set\n",
    "    y_pred = clf.predict(X_test_lda)\n",
    "\n",
    "    # Calculate accuracy\n",
    "    accuracy = accuracy_score(y_test, y_pred)\n",
    "\n",
    "    # Calculate AUC\n",
    "    if hasattr(clf, 'predict_proba'):\n",
    "        proba_class_1 = clf.predict_proba(X_test_lda)[:, 1]\n",
    "    else:  # For SVM, use decision_function\n",
    "        proba_class_1 = clf.decision_function(X_test_lda)\n",
    "    auc = roc_auc_score(y_test, proba_class_1)\n",
    "\n",
    "    # Store results in the array\n",
    "    results_array[i, 0] = accuracy\n",
    "    results_array[i, 1] = auc\n",
    "\n",
    "# Print the results array\n",
    "print(\"Classifier\\tAccuracy\\tAUC\")\n",
    "for i, (clf_name, _) in enumerate(classifiers.items()):\n",
    "    print(f\"{clf_name}\\t\\t{results_array[i, 0]:.4f}\\t\\t{results_array[i, 1]:.4f}\")"
   ]
  },
  {
   "cell_type": "code",
   "execution_count": 18,
   "metadata": {},
   "outputs": [
    {
     "data": {
      "image/png": "[encoded data removed]",
      "text/plain": [
       "<Figure size 640x480 with 1 Axes>"
      ]
     },
     "metadata": {},
     "output_type": "display_data"
    }
   ],
   "source": [
    "# Grafico a barre\n",
    "\n",
    "# Plotting the bar chart\n",
    "bar_width = 0.35\n",
    "index = np.arange(len(classifiers))\n",
    "\n",
    "fig, ax = plt.subplots()\n",
    "bar1 = ax.bar(index, results_array[:, 0], bar_width, label='Accuracy', color='blue')\n",
    "bar2 = ax.bar(index + bar_width, results_array[:, 1], bar_width, label='AUC', color='orange')\n",
    "\n",
    "ax.set_xlabel('Classifiers')\n",
    "ax.set_ylabel('Scores')\n",
    "ax.set_title('Accuracy and AUC for Different Classifiers')\n",
    "ax.set_xticks(index + bar_width / 2)\n",
    "ax.set_xticklabels(classifiers.keys())\n",
    "ax.legend()\n",
    "\n",
    "plt.show()\n"
   ]
  },
  {
   "cell_type": "code",
   "execution_count": null,
   "metadata": {},
   "outputs": [],
   "source": []
  }
 ],
 "metadata": {
  "kernelspec": {
   "display_name": "Python 3",
   "language": "python",
   "name": "python3"
  },
  "language_info": {
   "codemirror_mode": {
    "name": "ipython",
    "version": 3
   },
   "file_extension": ".py",
   "mimetype": "text/x-python",
   "name": "python",
   "nbconvert_exporter": "python",
   "pygments_lexer": "ipython3",
   "version": "3.8.10"
  }
 },
 "nbformat": 4,
 "nbformat_minor": 2
}
