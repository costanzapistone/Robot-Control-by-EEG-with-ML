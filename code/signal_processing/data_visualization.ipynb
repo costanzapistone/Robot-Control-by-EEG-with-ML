{
 "cells": [
  {
   "cell_type": "code",
   "execution_count": 1,
   "metadata": {},
   "outputs": [],
   "source": [
    "import numpy as np\n",
    "from scipy.io import loadmat\n",
    "import matplotlib.pyplot as plt "
   ]
  },
  {
   "cell_type": "code",
   "execution_count": 2,
   "metadata": {},
   "outputs": [
    {
     "name": "stdout",
     "output_type": "stream",
     "text": [
      "dict_keys(['__header__', '__version__', '__globals__', 'mrk', 'cnt', 'nfo'])\n"
     ]
    }
   ],
   "source": [
    "# Load the MATLAB file \n",
    "EEG_data = loadmat('/home/costanza/thesis/Datasets/BCI_Competition_IV/calib/BCICIV_1_mat/BCICIV_calib_ds1d.mat', struct_as_record = True)\n",
    "\n",
    "# List all the keys in the loaded data\n",
    "keys = EEG_data.keys()\n",
    "\n",
    "# Print the keys variables to identify the correct key for EEG data\n",
    "print(keys)"
   ]
  },
  {
   "cell_type": "code",
   "execution_count": 3,
   "metadata": {},
   "outputs": [
    {
     "name": "stdout",
     "output_type": "stream",
     "text": [
      "Time Unit: 0.01 seconds\n",
      "Shape of EEG: (59, 190473)\n",
      "Sample rate: 100\n",
      "Number of channels: 59\n",
      "Channel names: ['AF3', 'AF4', 'F5', 'F3', 'F1', 'Fz', 'F2', 'F4', 'F6', 'FC5', 'FC3', 'FC1', 'FCz', 'FC2', 'FC4', 'FC6', 'CFC7', 'CFC5', 'CFC3', 'CFC1', 'CFC2', 'CFC4', 'CFC6', 'CFC8', 'T7', 'C5', 'C3', 'C1', 'Cz', 'C2', 'C4', 'C6', 'T8', 'CCP7', 'CCP5', 'CCP3', 'CCP1', 'CCP2', 'CCP4', 'CCP6', 'CCP8', 'CP5', 'CP3', 'CP1', 'CPz', 'CP2', 'CP4', 'CP6', 'P5', 'P3', 'P1', 'Pz', 'P2', 'P4', 'P6', 'PO1', 'PO2', 'O1', 'O2']\n",
      "Number of events (MI movements): 200\n",
      "Event codes: [-1  1]\n",
      "Class labels: ['left', 'right']\n",
      "Number of classes: 2\n"
     ]
    }
   ],
   "source": [
    "# Extract data\n",
    "markers = EEG_data['mrk']\n",
    "sfreq = EEG_data['nfo']['fs'][0][0][0][0]\n",
    "EEGdata   = EEG_data['cnt'].T \n",
    "nchannels, nsamples = EEGdata.shape\n",
    "\n",
    "time_unit = 1 / sfreq\n",
    "print(\"Time Unit:\", time_unit, \"seconds\")\n",
    "\n",
    "chan_names = [s[0] for s in EEG_data['nfo']['clab'][0][0][0]]\n",
    "\n",
    "event_onsets  = EEG_data['mrk'][0][0][0] # Time points when events occurred\n",
    "event_codes   = EEG_data['mrk'][0][0][1] # It contains numerical or categorical labels associated with each event.\n",
    "event_onset_time = event_onsets * time_unit # Seconds\n",
    "\n",
    "# Creates an array of zeros and then assigns the event codes to the corresponding positions based on the event onsets.\n",
    "labels = np.zeros((1, nsamples), int)\n",
    "labels[0, event_onsets] = event_codes\n",
    "\n",
    "cl_lab = [s[0] for s in EEG_data['nfo']['classes'][0][0][0]]\n",
    "cl1    = cl_lab[0]\n",
    "cl2    = cl_lab[1]\n",
    "\n",
    "# Electrode positions \n",
    "xpos = EEG_data['nfo']['xpos']\n",
    "ypos = EEG_data['nfo']['ypos']\n",
    "\n",
    "nclasses = len(cl_lab)\n",
    "nevents = len(event_onsets)\n",
    "\n",
    "# Print some information\n",
    "print('Shape of EEG:', EEGdata.shape)\n",
    "print('Sample rate:', sfreq)\n",
    "print('Number of channels:', nchannels)\n",
    "print('Channel names:', chan_names)\n",
    "print('Number of events (MI movements):', event_onsets.shape[1])\n",
    "print('Event codes:', np.unique(event_codes))\n",
    "print('Class labels:', cl_lab)\n",
    "print('Number of classes:', nclasses)\n"
   ]
  },
  {
   "cell_type": "code",
   "execution_count": 4,
   "metadata": {},
   "outputs": [
    {
     "name": "stdout",
     "output_type": "stream",
     "text": [
      "Shape of trials[cl1]: (59, 400, 100)\n",
      "Shape of trials[cl2]: (59, 400, 100)\n"
     ]
    }
   ],
   "source": [
    "# Segmentation class dependent\n",
    "\n",
    "# Dictionary to store the trials in, each class gets an entry\n",
    "trials = {}\n",
    "\n",
    "# The time window (in samples) to extract for each trial, here 0.5 -- 4.5 seconds\n",
    "win = np.arange(int(0.5*sfreq), int(4.5*sfreq)) # 400 samples\n",
    "nsamples_win = len(win)\n",
    "\n",
    "# Loop over the classes (left, foot)\n",
    "for cl, code in zip(cl_lab, np.unique(event_codes)):\n",
    "\n",
    "    # Extract the onsets for the class\n",
    "    cl_onsets = event_onsets[event_codes == code]\n",
    "\n",
    "    # Allocate memory for the trials\n",
    "    trials[cl] = np.zeros((nchannels, nsamples_win, len(cl_onsets)))\n",
    "\n",
    "    # Extract each trial\n",
    "    for i, onset in enumerate (cl_onsets):\n",
    "        trials[cl][:,:,i] = EEGdata[:,win + onset]\n",
    "\n",
    "print('Shape of trials[cl1]:', trials[cl1].shape)\n",
    "print('Shape of trials[cl2]:', trials[cl2].shape)"
   ]
  },
  {
   "cell_type": "code",
   "execution_count": 5,
   "metadata": {},
   "outputs": [
    {
     "data": {
      "text/plain": [
       "{'left': array([[[   99.,   143.,    86., ...,   185.,  -102.,   -80.],\n",
       "         [  119.,   135.,   106., ...,   210.,   -43.,   -49.],\n",
       "         [  117.,   106.,   165., ...,   277.,   -38.,   -69.],\n",
       "         ...,\n",
       "         [   -2.,    39.,   104., ...,  -101.,  -221.,  -384.],\n",
       "         [  -38.,    76.,   115., ...,   -90.,  -206.,  -362.],\n",
       "         [  -61.,    96.,   193., ...,  -107.,  -266.,  -385.]],\n",
       " \n",
       "        [[   63.,  1238.,   423., ...,   587.,   553.,   630.],\n",
       "         [   87.,  1249.,   384., ...,   582.,   656.,   650.],\n",
       "         [  133.,  1239.,   484., ...,   604.,   696.,   577.],\n",
       "         ...,\n",
       "         [ -597.,   273.,   307., ...,  -417.,  -411.,  -567.],\n",
       "         [ -672.,   370.,   292., ...,  -362.,  -419.,  -543.],\n",
       "         [ -729.,   375.,   357., ...,  -355.,  -553.,  -614.]],\n",
       " \n",
       "        [[   82.,   205.,   194., ...,   176.,   -44.,   -51.],\n",
       "         [  100.,   204.,   206., ...,   196.,     9.,   -29.],\n",
       "         [  102.,   169.,   253., ...,   255.,     6.,   -35.],\n",
       "         ...,\n",
       "         [  108.,    84.,   188., ...,     9.,  -231.,  -187.],\n",
       "         [   77.,    99.,   190., ...,     9.,  -220.,  -155.],\n",
       "         [   54.,   115.,   257., ...,   -13.,  -260.,  -159.]],\n",
       " \n",
       "        ...,\n",
       " \n",
       "        [[ -139.,   -22.,    87., ...,   224.,  -244.,  -172.],\n",
       "         [ -121.,   -51.,    75., ...,   219.,  -199.,  -135.],\n",
       "         [ -112.,   -95.,   155., ...,   245.,  -182.,  -117.],\n",
       "         ...,\n",
       "         [   96.,   -89.,   167., ...,  -109.,    28.,   -44.],\n",
       "         [   50.,  -104.,   135., ...,  -138.,   117.,   -53.],\n",
       "         [   41.,   -85.,   192., ...,  -167.,    98.,   -47.]],\n",
       " \n",
       "        [[ -110.,   290.,     6., ...,   216.,   -62.,   157.],\n",
       "         [ -102.,   265.,   -10., ...,   230.,   -29.,   168.],\n",
       "         [ -103.,   244.,    54., ...,   264.,   -12.,   174.],\n",
       "         ...,\n",
       "         [ -120.,   -68.,   153., ...,   -47.,  -243.,  -220.],\n",
       "         [ -136.,   -49.,   152., ...,   -52.,  -174.,  -210.],\n",
       "         [ -162.,   -39.,   216., ...,   -72.,  -208.,  -218.]],\n",
       " \n",
       "        [[ -669.,  1650.,   250., ...,   682.,   777.,   785.],\n",
       "         [ -664.,  1600.,   168., ...,   551.,   855.,   859.],\n",
       "         [ -586.,  1556.,   337., ...,   452.,   898.,   827.],\n",
       "         ...,\n",
       "         [ -163.,   540.,   -35., ...,  -517.,  -961.,  -203.],\n",
       "         [ -249.,   577.,    33., ...,  -532.,  -936.,  -212.],\n",
       "         [ -358.,   622.,    30., ...,  -632., -1055.,  -261.]]]),\n",
       " 'right': array([[[   40.,  -227.,  -128., ...,  -157.,    34.,    25.],\n",
       "         [   53.,  -234.,   -79., ...,  -158.,    63.,    37.],\n",
       "         [   40.,  -243.,   -75., ...,  -181.,   104.,    21.],\n",
       "         ...,\n",
       "         [ -372.,   -85.,   -47., ...,  -191.,  -122.,   -60.],\n",
       "         [ -314.,   -85.,   -57., ...,  -176.,  -149.,   -99.],\n",
       "         [ -330.,  -125.,   -64., ...,  -159.,  -164.,  -150.]],\n",
       " \n",
       "        [[  136.,  -568.,   109., ...,  -291.,   393.,   787.],\n",
       "         [  159.,  -517.,   131., ...,  -204.,   476.,   809.],\n",
       "         [  144.,  -493.,   131., ...,  -118.,   558.,   791.],\n",
       "         ...,\n",
       "         [ -900.,   166., -1095., ...,    71.,  -313.,   231.],\n",
       "         [ -762.,   192., -1117., ...,    66.,  -330.,   247.],\n",
       "         [ -675.,   186., -1133., ...,    19.,  -379.,   167.]],\n",
       " \n",
       "        [[   29.,  -247.,  -119., ...,   -98.,    52.,    52.],\n",
       "         [   34.,  -250.,   -87., ...,   -96.,    80.,    71.],\n",
       "         [   24.,  -250.,   -82., ...,  -115.,   108.,    65.],\n",
       "         ...,\n",
       "         [ -242.,  -103.,    -6., ...,  -294.,  -224.,    33.],\n",
       "         [ -198.,  -112.,    -2., ...,  -291.,  -243.,   -13.],\n",
       "         [ -206.,  -148.,     7., ...,  -282.,  -254.,   -55.]],\n",
       " \n",
       "        ...,\n",
       " \n",
       "        [[  109.,  -149.,   -87., ...,  -201.,  -248.,  -177.],\n",
       "         [  136.,  -137.,  -127., ...,  -196.,  -199.,  -179.],\n",
       "         [  118.,  -123.,  -161., ...,  -222.,  -208.,  -158.],\n",
       "         ...,\n",
       "         [  -27.,  -138.,  -397., ...,  -177.,  -408.,   -77.],\n",
       "         [   56.,  -123.,  -370., ...,  -161.,  -413.,   -53.],\n",
       "         [   92.,  -123.,  -308., ...,  -152.,  -412.,   -93.]],\n",
       " \n",
       "        [[   94.,  -423.,  -122., ...,  -229.,   -24.,    -3.],\n",
       "         [  116.,  -393.,  -170., ...,  -194.,    16.,    17.],\n",
       "         [   96.,  -365.,  -199., ...,  -200.,    26.,    52.],\n",
       "         ...,\n",
       "         [ -211.,   -84.,  -301., ...,  -318.,  -162.,   155.],\n",
       "         [ -129.,   -74.,  -288., ...,  -291.,  -156.,   176.],\n",
       "         [ -115.,   -60.,  -268., ...,  -297.,  -154.,   130.]],\n",
       " \n",
       "        [[   21.,  -747.,    91., ...,  -498.,  -196.,   299.],\n",
       "         [   76.,  -604.,    27., ...,  -358.,   -77.,   380.],\n",
       "         [   68.,  -545.,    -8., ...,  -247.,   -33.,   443.],\n",
       "         ...,\n",
       "         [ -285.,  -263., -1572., ...,  -234., -1003.,   127.],\n",
       "         [ -123.,  -244., -1523., ...,  -220.,  -993.,   238.],\n",
       "         [  -37.,  -198., -1474., ...,  -263., -1061.,   161.]]])}"
      ]
     },
     "execution_count": 5,
     "metadata": {},
     "output_type": "execute_result"
    }
   ],
   "source": [
    "trials"
   ]
  },
  {
   "cell_type": "code",
   "execution_count": 6,
   "metadata": {},
   "outputs": [
    {
     "name": "stdout",
     "output_type": "stream",
     "text": [
      "(200, 59, 400)\n",
      "(159,)\n"
     ]
    }
   ],
   "source": [
    "left  = np.rollaxis(trials[cl1], 2, 0)  \n",
    "right = np.rollaxis(trials[cl2], 2, 0)\n",
    "data = np.concatenate([left, right])\n",
    "\n",
    "Y = np.concatenate([-np.ones(left.shape[0]), np.ones(right.shape[1])])\n",
    "\n",
    "print(data.shape)\n",
    "print(Y.shape)"
   ]
  },
  {
   "cell_type": "code",
   "execution_count": 7,
   "metadata": {},
   "outputs": [],
   "source": [
    "import mne"
   ]
  },
  {
   "cell_type": "code",
   "execution_count": 8,
   "metadata": {},
   "outputs": [
    {
     "name": "stdout",
     "output_type": "stream",
     "text": [
      "Event created: <Info | 7 non-empty values\n",
      " bads: []\n",
      " ch_names: AF3, AF4, F5, F3, F1, Fz, F2, F4, F6, FC5, FC3, FC1, FCz, FC2, ...\n",
      " chs: 59 EEG\n",
      " custom_ref_applied: False\n",
      " highpass: 0.0 Hz\n",
      " lowpass: 50.0 Hz\n",
      " meas_date: unspecified\n",
      " nchan: 59\n",
      " projs: []\n",
      " sfreq: 100.0 Hz\n",
      ">\n"
     ]
    }
   ],
   "source": [
    "n_channels = 59\n",
    "\n",
    "# Initialize an info structure\n",
    "info = mne.create_info(\n",
    "    ch_names = chan_names,\n",
    "    ch_types = ['eeg'] * nchannels,\n",
    "    sfreq = sfreq\n",
    ")\n",
    "\n",
    "print('Event created:', info)"
   ]
  },
  {
   "cell_type": "code",
   "execution_count": 9,
   "metadata": {},
   "outputs": [
    {
     "data": {
      "image/png": "[encoded data removed]",
      "text/plain": [
       "<Figure size 640x640 with 1 Axes>"
      ]
     },
     "metadata": {},
     "output_type": "display_data"
    },
    {
     "data": {
      "image/png": "[encoded data removed]",
      "text/plain": [
       "<Figure size 640x640 with 1 Axes>"
      ]
     },
     "execution_count": 9,
     "metadata": {},
     "output_type": "execute_result"
    }
   ],
   "source": [
    "xpos = EEG_data['nfo']['xpos'][0][0]\n",
    "ypos = EEG_data['nfo']['ypos'][0][0]\n",
    "layout_pos = np.concatenate((xpos, ypos), axis = 1)\n",
    "\n",
    "layout = mne.channels.generate_2d_layout(\n",
    "    xy = layout_pos,\n",
    "    ch_names = chan_names,\n",
    "    name = 'EEG custom layout',\n",
    ")\n",
    "\n",
    "layout.plot()"
   ]
  },
  {
   "cell_type": "code",
   "execution_count": 17,
   "metadata": {},
   "outputs": [],
   "source": [
    "from matplotlib import pyplot as plt"
   ]
  },
  {
   "cell_type": "code",
   "execution_count": 79,
   "metadata": {},
   "outputs": [
    {
     "data": {
      "image/png": "[encoded data removed]",
      "text/plain": [
       "<Figure size 640x480 with 1 Axes>"
      ]
     },
     "metadata": {},
     "output_type": "display_data"
    }
   ],
   "source": [
    "import matplotlib.pyplot as plt\n",
    "import numpy as np\n",
    "\n",
    "x1 = np.arange(3) # blank screen\n",
    "x2 = np.arange(2,5) # MI\n",
    "x3 = np.arange(4,7) # fixation cross (overlaps the MI)\n",
    "\n",
    "n_bins = 1\n",
    "\n",
    "plt.hist(x1, edgecolor='black', bins=n_bins, color = 'white', height = 1)\n",
    "plt.hist(x2, edgecolor='black', bins=n_bins, color = 'white', height = 1)\n",
    "plt.hist(x3, edgecolor='black', bins=n_bins, color = 'White', height = 1.5)\n",
    "\n",
    "plt.xticks(np.arange(0, 9, 1))\n",
    "plt.yticks(np.arange(0))\n",
    "\n",
    "plt.xlabel('Time (s)')\n",
    "\n",
    "# Add text inside the bins\n",
    "for x_val in x1:\n",
    "    plt.text(x_val, 0.5, 'Blank', ha='center', va='center')\n",
    "\n",
    "for x_val in x2:\n",
    "    plt.text(x_val, 0.5, 'MI', ha='center', va='center')\n",
    "\n",
    "for x_val in x3:\n",
    "    plt.text(x_val, 0.75, 'Fixation Cross', ha='center', va='center')\n",
    "\n",
    "\n",
    "plt.show()"
   ]
  }
 ],
 "metadata": {
  "kernelspec": {
   "display_name": "Python 3",
   "language": "python",
   "name": "python3"
  },
  "language_info": {
   "codemirror_mode": {
    "name": "ipython",
    "version": 3
   },
   "file_extension": ".py",
   "mimetype": "text/x-python",
   "name": "python",
   "nbconvert_exporter": "python",
   "pygments_lexer": "ipython3",
   "version": "3.8.10"
  }
 },
 "nbformat": 4,
 "nbformat_minor": 2
}
